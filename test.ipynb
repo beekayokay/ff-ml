{
 "cells": [
  {
   "cell_type": "code",
   "execution_count": 1,
   "metadata": {},
   "outputs": [],
   "source": [
    "from datetime import datetime\n",
    "\n",
    "from bs4 import BeautifulSoup\n",
    "import pandas as pd\n",
    "import requests\n",
    "\n",
    "url = 'https://www.pro-football-reference.com/play-index/pgl_finder.cgi?request=1&match=game&year_min=2019&year_max=2019&season_start=1&season_end=-1&pos%5B%5D=QB&pos%5B%5D=WR&pos%5B%5D=RB&pos%5B%5D=TE&is_starter=E&game_type=R&career_game_num_min=1&career_game_num_max=400&qb_start_num_min=1&qb_start_num_max=400&game_num_min=0&game_num_max=99&week_num_min=0&week_num_max=99&c5val=1.0&order_by=fantasy_points&offset=0'"
   ]
  },
  {
   "cell_type": "code",
   "execution_count": 2,
   "metadata": {
    "tags": []
   },
   "outputs": [],
   "source": [
    "page = requests.get(url)\n",
    "if page.status_code == 200:\n",
    "    soup = BeautifulSoup(page.content, \"lxml\")\n",
    "    table = soup.find('tbody')\n",
    "    rows = table.findAll('tr')"
   ]
  },
  {
   "cell_type": "code",
   "execution_count": 3,
   "metadata": {},
   "outputs": [],
   "source": [
    "col_list = ['log_id','player_id','player','pos','age','game_date','league_id',\n",
    "    'team','game_location','opp','game_result','game_num','week_num',\n",
    "    'game_day_of_week','fantasy_points','fantasy_points_ppr','draftkings_points','fanduel_points','pass_cmp','pass_att','pass_yds',\n",
    "    'pass_td','pass_int','rush_att','rush_yds','rush_td','rec','rec_yds',\n",
    "    'rec_td','fumbles','fgm','fga','xpm','xpa',]"
   ]
  },
  {
   "cell_type": "code",
   "execution_count": 4,
   "metadata": {},
   "outputs": [],
   "source": [
    "df = pd.DataFrame(columns=col_list)"
   ]
  },
  {
   "cell_type": "code",
   "execution_count": 13,
   "metadata": {
    "tags": []
   },
   "outputs": [],
   "source": [
    "count = 0\n",
    "for idx, item in enumerate(rows):\n",
    "    data_set = rows[idx].findAll('td')\n",
    "    for idx, item in enumerate(data_set):\n",
    "        if idx == 0:\n",
    "            df.loc[count,'player_id'] = item['data-append-csv']\n",
    "            df.loc[count,'player'] = item.text\n",
    "        else:\n",
    "            if item['data-stat'] in col_list:\n",
    "                try:\n",
    "                    df.loc[count,item['data-stat']] = (datetime.strptime(item.text, '%Y-%m-%d') - datetime(1970, 1, 1)).total_seconds()\n",
    "                except ValueError:\n",
    "                    try:\n",
    "                        df.loc[count,item['data-stat']] = round(float(item.text),2)\n",
    "                    except ValueError:\n",
    "                        df.loc[count,item['data-stat']] = item.text\n",
    "    count += 1"
   ]
  },
  {
   "cell_type": "code",
   "execution_count": 33,
   "metadata": {},
   "outputs": [],
   "source": [
    "df.log_id = df.player_id + '-' + df.game_date.astype(int).astype(str) + '-' + df.week_num.astype(int).astype(str)"
   ]
  },
  {
   "cell_type": "code",
   "execution_count": 34,
   "metadata": {},
   "outputs": [],
   "source": [
    "df.to_csv('test.csv')"
   ]
  },
  {
   "cell_type": "code",
   "execution_count": null,
   "metadata": {},
   "outputs": [],
   "source": []
  }
 ],
 "metadata": {
  "language_info": {
   "codemirror_mode": {
    "name": "ipython",
    "version": 3
   },
   "file_extension": ".py",
   "mimetype": "text/x-python",
   "name": "python",
   "nbconvert_exporter": "python",
   "pygments_lexer": "ipython3",
   "version": "3.8.3-final"
  },
  "orig_nbformat": 2,
  "kernelspec": {
   "name": "python38364bitffmlcondac0399cffa1f1402bb4bef8a367288003",
   "display_name": "Python 3.8.3 64-bit ('ff-ml': conda)"
  }
 },
 "nbformat": 4,
 "nbformat_minor": 2
}