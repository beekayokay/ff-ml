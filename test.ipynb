{
 "cells": [
  {
   "cell_type": "code",
   "execution_count": 1,
   "metadata": {},
   "outputs": [],
   "source": [
    "import time\n",
    "from configparser import ConfigParser\n",
    "from pfr_scraper import GameScraper, DatabaseMaker\n",
    "from datetime import datetime\n",
    "from bs4 import BeautifulSoup\n",
    "import pandas as pd\n",
    "import requests\n",
    "from sqlalchemy import create_engine\n",
    "from sqlalchemy.types import Float, Integer, String"
   ]
  },
  {
   "cell_type": "code",
   "execution_count": 2,
   "metadata": {},
   "outputs": [],
   "source": [
    "page_off = 0\n",
    "year1 = 1980\n",
    "year2 = 2020\n",
    "url = (\n",
    "    'https://www.pro-football-reference.com/play-index/draft-finder.cgi?'\n",
    "    f'request=1&year_min={year1}&year_max={year2}&pick_type=overall&pos%5B'\n",
    "    '%5D=qb&pos%5B%5D=rb&pos%5B%5D=wr&pos%5B%5D=te&pos%5B%5D=e&pos%5B%5D=t'\n",
    "    '&pos%5B%5D=g&pos%5B%5D=c&pos%5B%5D=ol&pos%5B%5D=dt&pos%5B%5D=de&pos'\n",
    "    '%5B%5D=dl&pos%5B%5D=ilb&pos%5B%5D=olb&pos%5B%5D=lb&pos%5B%5D=cb&pos'\n",
    "    '%5B%5D=s&pos%5B%5D=db&pos%5B%5D=k&pos%5B%5D=p&conference=any'\n",
    "    f'&show=all&order_by=default&offset={page_off}'\n",
    ")\n",
    "col_list = [\n",
    "    'player_id', 'player', 'year_id', 'draft_round', 'draft_pick', 'pos',\n",
    "    'draft_age', 'college_id'\n",
    "]"
   ]
  },
  {
   "cell_type": "code",
   "execution_count": 8,
   "metadata": {},
   "outputs": [],
   "source": [
    "page = requests.get(url)\n",
    "if page.status_code == 200:\n",
    "    soup = BeautifulSoup(page.content, \"lxml\")\n",
    "    table = soup.find('tbody')\n",
    "    rows = table.findAll('tr')\n",
    "df = pd.DataFrame(columns=col_list)"
   ]
  },
  {
   "cell_type": "code",
   "execution_count": 16,
   "metadata": {},
   "outputs": [
    {
     "output_type": "execute_result",
     "data": {
      "text/plain": "<td class=\"left\" csk=\"Burrow,Joe\" data-append-csv=\"BurrJo01\" data-stat=\"player\"><a href=\"/players/B/BurrJo01.htm\">Joe Burrow </a></td>"
     },
     "metadata": {},
     "execution_count": 16
    }
   ],
   "source": [
    "data_set = rows[0].findAll('td')\n",
    "data_set[3]"
   ]
  },
  {
   "cell_type": "code",
   "execution_count": null,
   "metadata": {},
   "outputs": [],
   "source": [
    "for idx, item in enumerate(rows):\n",
    "    data_set = rows[idx].findAll('td')\n",
    "    if len(data_set) > 0:\n",
    "        for idx, item in enumerate(data_set):\n",
    "            if idx == 3:\n",
    "                df.loc[count, 'player_id'] = item['data-append-csv']\n",
    "                df.loc[count, 'player'] = item.text\n",
    "            else:\n",
    "                if item['data-stat'] in col:\n",
    "                    try:\n",
    "                        df.loc[count, item['data-stat']] = (\n",
    "                            (datetime.strptime(item.text, '%Y-%m-%d') -\n",
    "                                datetime(1970, 1, 1)).total_seconds()\n",
    "                        )\n",
    "                    except ValueError:\n",
    "                        try:\n",
    "                            df.loc[count, item['data-stat']] = (\n",
    "                                round(float(item.text), 4)\n",
    "                            )\n",
    "                        except ValueError:\n",
    "                            df.loc[count, item['data-stat']] = (\n",
    "                                item.text\n",
    "                            )\n",
    "        count += 1"
   ]
  },
  {
   "cell_type": "code",
   "execution_count": null,
   "metadata": {},
   "outputs": [],
   "source": [
    "    df = game_scrape.create_draft_df(col_list, int(counter))\n",
    "    db_maker = DatabaseMaker(df)\n",
    "    db_maker.create_draft_db()"
   ]
  },
  {
   "cell_type": "code",
   "execution_count": null,
   "metadata": {},
   "outputs": [],
   "source": [
    "def create_draft_db(self):\n",
    "    engine = create_engine('sqlite:///raw_draftlog.db', echo=True)\n",
    "    table_name = 'draftlogs'\n",
    "    self.df.to_sql(\n",
    "        table_name,\n",
    "        con=engine,\n",
    "        if_exists='append',\n",
    "        index=True,\n",
    "        dtype={\n",
    "            'player_id': String,\n",
    "            'player': String,\n",
    "            'year_id': Integer,\n",
    "            'draft_round': Integer,\n",
    "            'draft_pick': Integer,\n",
    "            'pos': String,\n",
    "            'draft_age': Integer,\n",
    "            'college_id': String\n",
    "        }\n",
    "    )"
   ]
  }
 ],
 "metadata": {
  "language_info": {
   "codemirror_mode": {
    "name": "ipython",
    "version": 3
   },
   "file_extension": ".py",
   "mimetype": "text/x-python",
   "name": "python",
   "nbconvert_exporter": "python",
   "pygments_lexer": "ipython3",
   "version": "3.8.3-final"
  },
  "orig_nbformat": 2,
  "kernelspec": {
   "name": "python38364bitffmlcondac0399cffa1f1402bb4bef8a367288003",
   "display_name": "Python 3.8.3 64-bit ('ff-ml': conda)"
  }
 },
 "nbformat": 4,
 "nbformat_minor": 2
}