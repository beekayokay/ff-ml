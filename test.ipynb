{
 "cells": [
  {
   "cell_type": "code",
   "execution_count": 1,
   "metadata": {},
   "outputs": [],
   "source": [
    "from configparser import ConfigParser\n",
    "import pandas as pd\n",
    "\n",
    "from pfr_scraper import GameScraper\n",
    "\n",
    "config_parser = ConfigParser()\n",
    "config_parser.read('config.ini')\n",
    "page_off = config_parser.get('SETTINGS', 'offset')\n",
    "\n",
    "# year1 = 2002\n",
    "year1 = 2019\n",
    "year2 = 2019\n",
    "url = 'https://www.pro-football-reference.com/play-index/pgl_finder.cgi?'\\\n",
    "    f'request=1&match=game&year_min={year1}&year_max={year2}&season_start=1&'\\\n",
    "    'season_end=-1&pos%5B%5D=QB&pos%5B%5D=WR&pos%5B%5D=RB&pos%5B%5D=TE&'\\\n",
    "    'is_starter=E&game_type=R&career_game_num_min=1&career_game_num_max=400&'\\\n",
    "    'qb_start_num_min=1&qb_start_num_max=400&game_num_min=0&game_num_max=99&'\\\n",
    "    'week_num_min=0&week_num_max=99&c5val=1.0&order_by=fantasy_points'\\\n",
    "    f'&offset={page_off}'\n",
    "\n",
    "# config_parser.set('SETTINGS', 'offset', '100')\n",
    "# with open('config.ini', 'w') as configfile:\n",
    "#     config_parser.write(configfile)\n",
    "\n",
    "game_scrape = GameScraper(url)\n",
    "df = game_scrape.create_df()\n",
    "df_cols = df.columns\n"
   ]
  },
  {
   "cell_type": "code",
   "execution_count": 6,
   "metadata": {},
   "outputs": [],
   "source": [
    "df_col0 = df.columns.get_level_values(0)\n",
    "df_col1 = df.columns.get_level_values(1)"
   ]
  },
  {
   "cell_type": "code",
   "execution_count": 11,
   "metadata": {
    "tags": []
   },
   "outputs": [
    {
     "output_type": "stream",
     "name": "stdout",
     "text": "['Rk', 'Player', 'Pos', 'Age', 'Date', 'Lg', 'Tm', 'Index_7', 'Opp', 'Result', 'G#', 'Week', 'Day', 'Fantasy | FantPt', 'Fantasy | PPR', 'Fantasy | DKPt', 'Fantasy | FDPt', 'Passing | Cmp', 'Passing | Att', 'Passing | Yds', 'Passing | TD', 'Passing | Int', 'Rushing | Att', 'Rushing | Yds', 'Rushing | TD', 'Receiving | Rec', 'Receiving | Yds', 'Receiving | TD', 'Fmb', 'Scoring | FGM', 'Scoring | FGA', 'Scoring | XPM', 'Scoring | XPA']\n"
    }
   ],
   "source": [
    "col_list = []\n",
    "for idx, each in enumerate(df_col0):\n",
    "    if each.startswith('Unnamed'):\n",
    "        zero_lvl = \"\"\n",
    "    else:\n",
    "        zero_lvl = each + ' | '\n",
    "    if df_col1[idx].startswith('Unnamed'):\n",
    "        one_lvl = 'Index_' + str(idx)\n",
    "    else:\n",
    "        one_lvl = df_col1[idx]\n",
    "    col_list.append(zero_lvl + one_lvl)\n",
    "print(col_list)"
   ]
  },
  {
   "cell_type": "code",
   "execution_count": null,
   "metadata": {},
   "outputs": [],
   "source": []
  }
 ],
 "metadata": {
  "language_info": {
   "codemirror_mode": {
    "name": "ipython",
    "version": 3
   },
   "file_extension": ".py",
   "mimetype": "text/x-python",
   "name": "python",
   "nbconvert_exporter": "python",
   "pygments_lexer": "ipython3",
   "version": "3.8.3-final"
  },
  "orig_nbformat": 2,
  "kernelspec": {
   "name": "python38364bitffmlcondac0399cffa1f1402bb4bef8a367288003",
   "display_name": "Python 3.8.3 64-bit ('ff-ml': conda)"
  }
 },
 "nbformat": 4,
 "nbformat_minor": 2
}